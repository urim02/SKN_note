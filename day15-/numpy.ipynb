{
 "cells": [
  {
   "cell_type": "code",
   "execution_count": 2,
   "metadata": {},
   "outputs": [],
   "source": [
    "import numpy as np\n",
    "from tqdm import tqdm"
   ]
  },
  {
   "cell_type": "markdown",
   "metadata": {},
   "source": [
    "## Numpy\n",
    "\n",
    "행렬이나 다차원 배열을 쉽게 처리할 수 있도록 도와주는 python 라이브러리\n",
    "\n",
    "<br>\n",
    "\n",
    "- Numpy 특징 <br>\n",
    "    - python list에 비해 빠르며 효율적인 메모리\n",
    "    - 반복문 없이 배열에 대한 처리 \n",
    "    - 다양한 기능 탑재\n",
    "<br>\n",
    "<br>\n",
    "\n",
    "- Numpy 기능 <br>\n",
    "1. shape: numpy dimension\n",
    "2. ndim: shape에서 얼마나 나오는지\n",
    "3. dtype: numpy 원소의 data type\n"
   ]
  },
  {
   "cell_type": "markdown",
   "metadata": {},
   "source": [
    "#### median\n",
    "\n",
    "축별 중앙값 산출"
   ]
  },
  {
   "cell_type": "markdown",
   "metadata": {},
   "source": [
    "axis=0: 각 열(column)별로 중앙값 계산 <br>\n",
    "axis=1: 각 행(row)별로 중앙값 계산"
   ]
  },
  {
   "cell_type": "code",
   "execution_count": 15,
   "metadata": {},
   "outputs": [
    {
     "name": "stdout",
     "output_type": "stream",
     "text": [
      "[[ 0  1  2]\n",
      " [ 3  4  5]\n",
      " [ 6  7  8]\n",
      " [ 9 10 11]]\n",
      "------------------------------\n",
      "[ 1.  4.  7. 10.]\n"
     ]
    }
   ],
   "source": [
    "x = np.arange(12).reshape(4, 3)\n",
    "print(x)\n",
    "\n",
    "print('-' * 30)\n",
    "\n",
    "print(np.median(x, axis=1))"
   ]
  },
  {
   "cell_type": "code",
   "execution_count": 16,
   "metadata": {},
   "outputs": [
    {
     "name": "stdout",
     "output_type": "stream",
     "text": [
      "[[6 0 0 8 2]\n",
      " [2 1 9 2 9]]\n",
      "------------------------------\n",
      "[2. 2.]\n"
     ]
    }
   ],
   "source": [
    "x = np.random.randint(0, 10, (2, 5))\n",
    "print(x)\n",
    "\n",
    "print('-' * 30)\n",
    "\n",
    "print(np.median(x, axis = 1))"
   ]
  },
  {
   "cell_type": "markdown",
   "metadata": {},
   "source": [
    "#### average\n",
    "\n",
    "축별 가중합 산출\n",
    "\n",
    "<br>\n",
    "배열의 각 요소에 지정된 \"가중치\"를 곱한 후 그 합을 가중치의 합으로 나누어 가중 평균 산출"
   ]
  },
  {
   "cell_type": "code",
   "execution_count": 26,
   "metadata": {},
   "outputs": [
    {
     "data": {
      "text/plain": [
       "3.7"
      ]
     },
     "execution_count": 26,
     "metadata": {},
     "output_type": "execute_result"
    }
   ],
   "source": [
    "x = np.array([3, 4, 5])\n",
    "np.average(x, weights=[0.5, 0.3, 0.2])"
   ]
  },
  {
   "cell_type": "markdown",
   "metadata": {},
   "source": [
    "#### mean\n",
    "\n",
    "축별 평균 산출\n"
   ]
  },
  {
   "cell_type": "code",
   "execution_count": 29,
   "metadata": {},
   "outputs": [
    {
     "data": {
      "text/plain": [
       "array([ 1.,  4.,  7., 10.])"
      ]
     },
     "execution_count": 29,
     "metadata": {},
     "output_type": "execute_result"
    }
   ],
   "source": [
    "x = np.arange(12).reshape(4, 3)\n",
    "x.mean(axis =1)"
   ]
  },
  {
   "cell_type": "code",
   "execution_count": 30,
   "metadata": {},
   "outputs": [
    {
     "name": "stdout",
     "output_type": "stream",
     "text": [
      "[[ 0  1  2]\n",
      " [ 3  4  5]\n",
      " [ 6  7  8]\n",
      " [ 9 10 11]]\n",
      "------------------------------\n",
      "[4.5 5.5 6.5]\n"
     ]
    }
   ],
   "source": [
    "x = np.arange(12).reshape(4, 3)\n",
    "print(x)\n",
    "\n",
    "print('-' * 30)\n",
    "\n",
    "print(x.mean(axis = 0))"
   ]
  },
  {
   "cell_type": "markdown",
   "metadata": {},
   "source": [
    "### 랜덤 배열 생성"
   ]
  },
  {
   "cell_type": "markdown",
   "metadata": {},
   "source": [
    "- random: 균등분포에서 입력한 차원 만큼 데이터 생성 -> 실수\n",
    "\n",
    "- randint: 지정한 범위 내에서 임의의 수 생성 -> 정수"
   ]
  },
  {
   "cell_type": "code",
   "execution_count": 4,
   "metadata": {},
   "outputs": [
    {
     "data": {
      "text/plain": [
       "array([[0.87625725, 0.57557234, 0.16394683],\n",
       "       [0.20972931, 0.25034458, 0.10182282]])"
      ]
     },
     "execution_count": 4,
     "metadata": {},
     "output_type": "execute_result"
    }
   ],
   "source": [
    "np.random.random(size=(2, 3))"
   ]
  },
  {
   "cell_type": "code",
   "execution_count": 5,
   "metadata": {},
   "outputs": [
    {
     "data": {
      "text/plain": [
       "array([[4, 2, 5, 0],\n",
       "       [3, 7, 8, 0],\n",
       "       [1, 2, 9, 4],\n",
       "       [3, 4, 9, 7],\n",
       "       [9, 6, 0, 9]])"
      ]
     },
     "execution_count": 5,
     "metadata": {},
     "output_type": "execute_result"
    }
   ],
   "source": [
    "np.random.randint(0, 10, size=(5, 4))"
   ]
  },
  {
   "cell_type": "markdown",
   "metadata": {},
   "source": [
    "- normal\n",
    "    - 정규 분포에서 입력한 차원 만큼 데이터 생성\n",
    "- randn\n",
    "    - 표준정규분포에서 입력한 차원 만큼 데이터 생성\n",
    "    - 표준정규분포: 평균 0, 표준편차 1"
   ]
  },
  {
   "cell_type": "code",
   "execution_count": 7,
   "metadata": {},
   "outputs": [
    {
     "data": {
      "text/plain": [
       "array([[ 6.61208877, 19.85208009],\n",
       "       [15.04415091, 11.99831204],\n",
       "       [ 2.57484956,  7.25714995]])"
      ]
     },
     "execution_count": 7,
     "metadata": {},
     "output_type": "execute_result"
    }
   ],
   "source": [
    "# loc: 평균, scale: 분산, size:dim\n",
    "np.random.normal(loc = 10, scale = 5, size=(3, 2))"
   ]
  },
  {
   "cell_type": "code",
   "execution_count": 10,
   "metadata": {},
   "outputs": [
    {
     "data": {
      "text/plain": [
       "array([[-1.96461188,  0.89401317, -1.463116  ],\n",
       "       [-1.25413464, -0.14024344,  0.87375088]])"
      ]
     },
     "execution_count": 10,
     "metadata": {},
     "output_type": "execute_result"
    }
   ],
   "source": [
    "np.random.randn(2, 3)"
   ]
  },
  {
   "cell_type": "markdown",
   "metadata": {},
   "source": [
    "## 배열 조작"
   ]
  },
  {
   "cell_type": "markdown",
   "metadata": {},
   "source": [
    "### 배열결합\n",
    "- concatenate / reshape\n",
    "\n",
    "### 배열 분할\n",
    "- array_split"
   ]
  },
  {
   "cell_type": "code",
   "execution_count": 16,
   "metadata": {},
   "outputs": [
    {
     "name": "stdout",
     "output_type": "stream",
     "text": [
      "--------------------------------------------------\n",
      "[[ 0  1  2  3  4  5  0  1  2  3  4  5]\n",
      " [ 6  7  8  9 10 11  6  7  8  9 10 11]]\n"
     ]
    }
   ],
   "source": [
    "a = np.arange(12).reshape(2, 6)\n",
    "b = np.arange(12).reshape(2, 6)\n",
    "\n",
    "print(np.concatenate([a, b], axis =1))"
   ]
  },
  {
   "cell_type": "code",
   "execution_count": 19,
   "metadata": {},
   "outputs": [
    {
     "name": "stdout",
     "output_type": "stream",
     "text": [
      "[[ 0  1  2  3  4  5]\n",
      " [ 6  7  8  9 10 11]\n",
      " [ 0  1  2  3  4  5]\n",
      " [ 6  7  8  9 10 11]]\n"
     ]
    }
   ],
   "source": [
    "print(np.concatenate([a, b], axis =0))"
   ]
  },
  {
   "cell_type": "code",
   "execution_count": 22,
   "metadata": {},
   "outputs": [
    {
     "name": "stdout",
     "output_type": "stream",
     "text": [
      "[array([0, 1, 2, 3]), array([4, 5, 6, 7]), array([ 8,  9, 10, 11])]\n",
      "--------------------------------------------------\n",
      "[array([0, 1]), array([2, 3, 4]), array([5, 6, 7]), array([ 8,  9, 10]), array([11])]\n"
     ]
    }
   ],
   "source": [
    "x = np.arange(12)\n",
    "print(np.split(x, 3)) # 배열 x를 3개의 균등한 크기의 부분 배열로 나눔 -> 각 부분 배열은 4개의 원소 가짐\n",
    "\n",
    "print('-' * 50)\n",
    "\n",
    "y = np.arange(12)\n",
    "print(np.split(y, [2, 5, 8, 11])) # 주어진 인덱스 위치에서 분할"
   ]
  },
  {
   "cell_type": "markdown",
   "metadata": {},
   "source": [
    "### 차원 변경\n",
    "- reshape\n",
    "    - 배열의 모양을 원하는 형태로 바꿈\n",
    "    - 바꾸는 배열의 차원 곱은 원 배열의 차원 곱과 일치해야 함\n",
    "- flattten\n",
    "    - 배열을 1차원 배열로 바꿈\n"
   ]
  },
  {
   "cell_type": "code",
   "execution_count": 25,
   "metadata": {},
   "outputs": [
    {
     "name": "stdout",
     "output_type": "stream",
     "text": [
      "[[0 1]\n",
      " [2 3]\n",
      " [4 5]]\n",
      "--------------------------------------------------\n",
      "[[[ 0  1]\n",
      "  [ 2  3]\n",
      "  [ 4  5]]\n",
      "\n",
      " [[ 6  7]\n",
      "  [ 8  9]\n",
      "  [10 11]]]\n"
     ]
    }
   ],
   "source": [
    "print(np.arange(6).reshape(3, 2))\n",
    "\n",
    "print('-' * 50)\n",
    "\n",
    "print(np.arange(12).reshape(2, 3, 2))"
   ]
  },
  {
   "cell_type": "code",
   "execution_count": null,
   "metadata": {},
   "outputs": [],
   "source": [
    "x = np.arange(12).reshape(2, 3, 2)"
   ]
  }
 ],
 "metadata": {
  "kernelspec": {
   "display_name": "base",
   "language": "python",
   "name": "python3"
  },
  "language_info": {
   "codemirror_mode": {
    "name": "ipython",
    "version": 3
   },
   "file_extension": ".py",
   "mimetype": "text/x-python",
   "name": "python",
   "nbconvert_exporter": "python",
   "pygments_lexer": "ipython3",
   "version": "3.12.4"
  }
 },
 "nbformat": 4,
 "nbformat_minor": 2
}
