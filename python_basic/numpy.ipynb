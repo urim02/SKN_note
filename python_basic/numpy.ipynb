{
 "cells": [
  {
   "cell_type": "code",
   "execution_count": 2,
   "metadata": {},
   "outputs": [],
   "source": [
    "import numpy as np\n",
    "from tqdm import tqdm"
   ]
  },
  {
   "cell_type": "markdown",
   "metadata": {},
   "source": [
    "## Numpy\n",
    "\n",
    "행렬이나 다차원 배열을 쉽게 처리할 수 있도록 도와주는 python 라이브러리\n",
    "\n",
    "<br>\n",
    "\n",
    "- Numpy 특징 <br>\n",
    "    - python list에 비해 빠르며 효율적인 메모리\n",
    "    - 반복문 없이 배열에 대한 처리 \n",
    "    - 다양한 기능 탑재\n",
    "<br>\n",
    "<br>\n",
    "\n",
    "- Numpy 기능 <br>\n",
    "1. shape: numpy dimension\n",
    "2. ndim: shape에서 얼마나 나오는지\n",
    "3. dtype: numpy 원소의 data type\n"
   ]
  },
  {
   "cell_type": "markdown",
   "metadata": {},
   "source": [
    "#### median\n",
    "\n",
    "축별 중앙값 산출"
   ]
  },
  {
   "cell_type": "markdown",
   "metadata": {},
   "source": [
    "axis=0: 각 열(column)별로 중앙값 계산 <br>\n",
    "axis=1: 각 행(row)별로 중앙값 계산"
   ]
  },
  {
   "cell_type": "code",
   "execution_count": 15,
   "metadata": {},
   "outputs": [
    {
     "name": "stdout",
     "output_type": "stream",
     "text": [
      "[[ 0  1  2]\n",
      " [ 3  4  5]\n",
      " [ 6  7  8]\n",
      " [ 9 10 11]]\n",
      "------------------------------\n",
      "[ 1.  4.  7. 10.]\n"
     ]
    }
   ],
   "source": [
    "x = np.arange(12).reshape(4, 3)\n",
    "print(x)\n",
    "\n",
    "print('-' * 30)\n",
    "\n",
    "print(np.median(x, axis=1))"
   ]
  },
  {
   "cell_type": "code",
   "execution_count": 16,
   "metadata": {},
   "outputs": [
    {
     "name": "stdout",
     "output_type": "stream",
     "text": [
      "[[6 0 0 8 2]\n",
      " [2 1 9 2 9]]\n",
      "------------------------------\n",
      "[2. 2.]\n"
     ]
    }
   ],
   "source": [
    "x = np.random.randint(0, 10, (2, 5))\n",
    "print(x)\n",
    "\n",
    "print('-' * 30)\n",
    "\n",
    "print(np.median(x, axis = 1))"
   ]
  },
  {
   "cell_type": "markdown",
   "metadata": {},
   "source": [
    "#### average\n",
    "\n",
    "축별 가중합 산출\n",
    "\n",
    "<br>\n",
    "배열의 각 요소에 지정된 \"가중치\"를 곱한 후 그 합을 가중치의 합으로 나누어 가중 평균 산출"
   ]
  },
  {
   "cell_type": "code",
   "execution_count": 26,
   "metadata": {},
   "outputs": [
    {
     "data": {
      "text/plain": [
       "3.7"
      ]
     },
     "execution_count": 26,
     "metadata": {},
     "output_type": "execute_result"
    }
   ],
   "source": [
    "x = np.array([3, 4, 5])\n",
    "np.average(x, weights=[0.5, 0.3, 0.2])"
   ]
  },
  {
   "cell_type": "markdown",
   "metadata": {},
   "source": [
    "#### mean\n",
    "\n",
    "축별 평균 산출\n"
   ]
  },
  {
   "cell_type": "code",
   "execution_count": 29,
   "metadata": {},
   "outputs": [
    {
     "data": {
      "text/plain": [
       "array([ 1.,  4.,  7., 10.])"
      ]
     },
     "execution_count": 29,
     "metadata": {},
     "output_type": "execute_result"
    }
   ],
   "source": [
    "x = np.arange(12).reshape(4, 3)\n",
    "x.mean(axis =1)"
   ]
  },
  {
   "cell_type": "code",
   "execution_count": 30,
   "metadata": {},
   "outputs": [
    {
     "name": "stdout",
     "output_type": "stream",
     "text": [
      "[[ 0  1  2]\n",
      " [ 3  4  5]\n",
      " [ 6  7  8]\n",
      " [ 9 10 11]]\n",
      "------------------------------\n",
      "[4.5 5.5 6.5]\n"
     ]
    }
   ],
   "source": [
    "x = np.arange(12).reshape(4, 3)\n",
    "print(x)\n",
    "\n",
    "print('-' * 30)\n",
    "\n",
    "print(x.mean(axis = 0))"
   ]
  },
  {
   "cell_type": "markdown",
   "metadata": {},
   "source": [
    "### 랜덤 배열 생성"
   ]
  },
  {
   "cell_type": "markdown",
   "metadata": {},
   "source": [
    "- random: 균등분포에서 입력한 차원 만큼 데이터 생성 -> 실수\n",
    "\n",
    "- randint: 지정한 범위 내에서 임의의 수 생성 -> 정수"
   ]
  },
  {
   "cell_type": "code",
   "execution_count": 4,
   "metadata": {},
   "outputs": [
    {
     "data": {
      "text/plain": [
       "array([[0.87625725, 0.57557234, 0.16394683],\n",
       "       [0.20972931, 0.25034458, 0.10182282]])"
      ]
     },
     "execution_count": 4,
     "metadata": {},
     "output_type": "execute_result"
    }
   ],
   "source": [
    "np.random.random(size=(2, 3))"
   ]
  },
  {
   "cell_type": "code",
   "execution_count": 5,
   "metadata": {},
   "outputs": [
    {
     "data": {
      "text/plain": [
       "array([[4, 2, 5, 0],\n",
       "       [3, 7, 8, 0],\n",
       "       [1, 2, 9, 4],\n",
       "       [3, 4, 9, 7],\n",
       "       [9, 6, 0, 9]])"
      ]
     },
     "execution_count": 5,
     "metadata": {},
     "output_type": "execute_result"
    }
   ],
   "source": [
    "np.random.randint(0, 10, size=(5, 4))"
   ]
  },
  {
   "cell_type": "markdown",
   "metadata": {},
   "source": [
    "- normal\n",
    "    - 정규 분포에서 입력한 차원 만큼 데이터 생성\n",
    "- randn\n",
    "    - 표준정규분포에서 입력한 차원 만큼 데이터 생성\n",
    "    - 표준정규분포: 평균 0, 표준편차 1"
   ]
  },
  {
   "cell_type": "code",
   "execution_count": 7,
   "metadata": {},
   "outputs": [
    {
     "data": {
      "text/plain": [
       "array([[ 6.61208877, 19.85208009],\n",
       "       [15.04415091, 11.99831204],\n",
       "       [ 2.57484956,  7.25714995]])"
      ]
     },
     "execution_count": 7,
     "metadata": {},
     "output_type": "execute_result"
    }
   ],
   "source": [
    "# loc: 평균, scale: 분산, size:dim\n",
    "np.random.normal(loc = 10, scale = 5, size=(3, 2))"
   ]
  },
  {
   "cell_type": "code",
   "execution_count": 10,
   "metadata": {},
   "outputs": [
    {
     "data": {
      "text/plain": [
       "array([[-1.96461188,  0.89401317, -1.463116  ],\n",
       "       [-1.25413464, -0.14024344,  0.87375088]])"
      ]
     },
     "execution_count": 10,
     "metadata": {},
     "output_type": "execute_result"
    }
   ],
   "source": [
    "np.random.randn(2, 3)"
   ]
  },
  {
   "cell_type": "markdown",
   "metadata": {},
   "source": [
    "## 배열 조작"
   ]
  },
  {
   "cell_type": "markdown",
   "metadata": {},
   "source": [
    "### 배열결합\n",
    "- concatenate / reshape\n",
    "\n",
    "### 배열 분할\n",
    "- array_split"
   ]
  },
  {
   "cell_type": "code",
   "execution_count": 16,
   "metadata": {},
   "outputs": [
    {
     "name": "stdout",
     "output_type": "stream",
     "text": [
      "--------------------------------------------------\n",
      "[[ 0  1  2  3  4  5  0  1  2  3  4  5]\n",
      " [ 6  7  8  9 10 11  6  7  8  9 10 11]]\n"
     ]
    }
   ],
   "source": [
    "a = np.arange(12).reshape(2, 6)\n",
    "b = np.arange(12).reshape(2, 6)\n",
    "\n",
    "print(np.concatenate([a, b], axis =1))"
   ]
  },
  {
   "cell_type": "code",
   "execution_count": 19,
   "metadata": {},
   "outputs": [
    {
     "name": "stdout",
     "output_type": "stream",
     "text": [
      "[[ 0  1  2  3  4  5]\n",
      " [ 6  7  8  9 10 11]\n",
      " [ 0  1  2  3  4  5]\n",
      " [ 6  7  8  9 10 11]]\n"
     ]
    }
   ],
   "source": [
    "print(np.concatenate([a, b], axis =0))"
   ]
  },
  {
   "cell_type": "code",
   "execution_count": 22,
   "metadata": {},
   "outputs": [
    {
     "name": "stdout",
     "output_type": "stream",
     "text": [
      "[array([0, 1, 2, 3]), array([4, 5, 6, 7]), array([ 8,  9, 10, 11])]\n",
      "--------------------------------------------------\n",
      "[array([0, 1]), array([2, 3, 4]), array([5, 6, 7]), array([ 8,  9, 10]), array([11])]\n"
     ]
    }
   ],
   "source": [
    "x = np.arange(12)\n",
    "print(np.split(x, 3)) # 배열 x를 3개의 균등한 크기의 부분 배열로 나눔 -> 각 부분 배열은 4개의 원소 가짐\n",
    "\n",
    "print('-' * 50)\n",
    "\n",
    "y = np.arange(12)\n",
    "print(np.split(y, [2, 5, 8, 11])) # 주어진 인덱스 위치에서 분할"
   ]
  },
  {
   "cell_type": "markdown",
   "metadata": {},
   "source": [
    "### 차원 변경\n",
    "- reshape\n",
    "    - 배열의 모양을 원하는 형태로 바꿈\n",
    "    - 바꾸는 배열의 차원 곱은 원 배열의 차원 곱과 일치해야 함\n",
    "- flattten\n",
    "    - 배열을 1차원 배열로 바꿈\n",
    "- squeeze\n",
    "    - 불필요 차원을 제거하는 것으로 길이가 0인 차원을 제거\n",
    "- expand_dims\n",
    "    - 차원 추가"
   ]
  },
  {
   "cell_type": "code",
   "execution_count": 25,
   "metadata": {},
   "outputs": [
    {
     "name": "stdout",
     "output_type": "stream",
     "text": [
      "[[0 1]\n",
      " [2 3]\n",
      " [4 5]]\n",
      "--------------------------------------------------\n",
      "[[[ 0  1]\n",
      "  [ 2  3]\n",
      "  [ 4  5]]\n",
      "\n",
      " [[ 6  7]\n",
      "  [ 8  9]\n",
      "  [10 11]]]\n"
     ]
    }
   ],
   "source": [
    "print(np.arange(6).reshape(3, 2))\n",
    "\n",
    "print('-' * 50)\n",
    "\n",
    "print(np.arange(12).reshape(2, 3, 2))"
   ]
  },
  {
   "cell_type": "code",
   "execution_count": 27,
   "metadata": {},
   "outputs": [
    {
     "name": "stdout",
     "output_type": "stream",
     "text": [
      "[[[ 0  1]\n",
      "  [ 2  3]\n",
      "  [ 4  5]]\n",
      "\n",
      " [[ 6  7]\n",
      "  [ 8  9]\n",
      "  [10 11]]]\n",
      "--------------------------------------------------\n",
      "[ 0  1  2  3  4  5  6  7  8  9 10 11]\n"
     ]
    }
   ],
   "source": [
    "x = np.arange(12).reshape(2, 3, 2)\n",
    "print(x)\n",
    "print('-'*50)\n",
    "print(x.flatten())"
   ]
  },
  {
   "cell_type": "code",
   "execution_count": 29,
   "metadata": {},
   "outputs": [
    {
     "name": "stdout",
     "output_type": "stream",
     "text": [
      "[[[[[[[0 1 2]\n",
      "      [3 4 5]]]]]]]\n"
     ]
    },
    {
     "data": {
      "text/plain": [
       "array([[0, 1, 2],\n",
       "       [3, 4, 5]])"
      ]
     },
     "execution_count": 29,
     "metadata": {},
     "output_type": "execute_result"
    }
   ],
   "source": [
    "x = np.arange(6).reshape(1, 1, 1, 1, 1, 2, 3)\n",
    "print(x)\n",
    "\n",
    "x.squeeze()"
   ]
  },
  {
   "cell_type": "code",
   "execution_count": 30,
   "metadata": {},
   "outputs": [
    {
     "name": "stdout",
     "output_type": "stream",
     "text": [
      "(10,)\n",
      "(1, 10)\n"
     ]
    }
   ],
   "source": [
    "x = np.arange(10)\n",
    "print(x.shape)\n",
    "\n",
    "x1 = np.expand_dims(x, 0)\n",
    "print(x1.shape)"
   ]
  },
  {
   "cell_type": "markdown",
   "metadata": {},
   "source": [
    "### 모양 변경\n",
    "- roll\n",
    "    - 입력한 수 만큼 이동\n",
    "- flip\n",
    "    - 지정된 축 기준으로 배열을 뒤집음"
   ]
  },
  {
   "cell_type": "code",
   "execution_count": 31,
   "metadata": {},
   "outputs": [
    {
     "name": "stdout",
     "output_type": "stream",
     "text": [
      "[0 1 2 3 4]\n",
      "[4 0 1 2 3]\n"
     ]
    }
   ],
   "source": [
    "x = np.arange(5)\n",
    "\n",
    "print(x)\n",
    "print(np.roll(x, shift=1))"
   ]
  },
  {
   "cell_type": "code",
   "execution_count": 32,
   "metadata": {},
   "outputs": [
    {
     "name": "stdout",
     "output_type": "stream",
     "text": [
      "['2024-01-01', '2024-02-01', '2024-03-01', '2024-04-01', '2024-05-01']\n",
      "['2024-02-01' '2024-03-01' '2024-04-01' '2024-05-01' '2024-01-01']\n"
     ]
    },
    {
     "data": {
      "text/plain": [
       "[('2024-01-01', '2024-02-01'),\n",
       " ('2024-02-01', '2024-03-01'),\n",
       " ('2024-03-01', '2024-04-01'),\n",
       " ('2024-04-01', '2024-05-01')]"
      ]
     },
     "execution_count": 32,
     "metadata": {},
     "output_type": "execute_result"
    }
   ],
   "source": [
    "a = ['2024-01-01', '2024-02-01', '2024-03-01', '2024-04-01', '2024-05-01']\n",
    "b = np.roll(a, shift=-1)\n",
    "\n",
    "print(a)\n",
    "print(b)\n",
    "\n",
    "list(zip(a, b))[:-1]"
   ]
  },
  {
   "cell_type": "code",
   "execution_count": 38,
   "metadata": {},
   "outputs": [
    {
     "name": "stdout",
     "output_type": "stream",
     "text": [
      "[[0 1]\n",
      " [2 3]\n",
      " [4 5]\n",
      " [6 7]\n",
      " [8 9]]\n",
      "--------------------------------------------------\n",
      "[[8 9]\n",
      " [6 7]\n",
      " [4 5]\n",
      " [2 3]\n",
      " [0 1]]\n",
      "--------------------------------------------------\n",
      "[[1 0]\n",
      " [3 2]\n",
      " [5 4]\n",
      " [7 6]\n",
      " [9 8]]\n"
     ]
    }
   ],
   "source": [
    "x = np.arange(10).reshape(5, 2)\n",
    "print(x)\n",
    "print('-'*50)\n",
    "print(np.flip(x, axis=0))\n",
    "print('-'*50)\n",
    "print(np.flip(x, axis=1))"
   ]
  },
  {
   "cell_type": "markdown",
   "metadata": {},
   "source": [
    "### 축 변경\n",
    "- swapaxes\n",
    "    - 두축의 위치를 지정하여 변경\n",
    "- transpose\n",
    "    - 여러 축의 위치 변경"
   ]
  },
  {
   "cell_type": "code",
   "execution_count": 53,
   "metadata": {},
   "outputs": [
    {
     "name": "stdout",
     "output_type": "stream",
     "text": [
      "[[2 3]\n",
      " [0 9]\n",
      " [9 9]\n",
      " [1 8]\n",
      " [8 7]]\n"
     ]
    },
    {
     "data": {
      "text/plain": [
       "array([[0, 3],\n",
       "       [1, 7],\n",
       "       [2, 8],\n",
       "       [8, 9],\n",
       "       [9, 9]])"
      ]
     },
     "execution_count": 53,
     "metadata": {},
     "output_type": "execute_result"
    }
   ],
   "source": [
    "x = np.random.randint(0, 10, (5, 2))\n",
    "print(x)\n",
    "\n",
    "x.sort(axis=0)\n",
    "x"
   ]
  },
  {
   "cell_type": "code",
   "execution_count": 56,
   "metadata": {},
   "outputs": [
    {
     "data": {
      "text/plain": [
       "array([[0, 3],\n",
       "       [1, 7],\n",
       "       [2, 8],\n",
       "       [8, 9],\n",
       "       [9, 9]])"
      ]
     },
     "execution_count": 56,
     "metadata": {},
     "output_type": "execute_result"
    }
   ],
   "source": [
    "x.sort(axis=1)\n",
    "x"
   ]
  },
  {
   "cell_type": "code",
   "execution_count": 59,
   "metadata": {},
   "outputs": [
    {
     "name": "stdout",
     "output_type": "stream",
     "text": [
      "[3 9 9 1 6]\n",
      "[3 0 4 1 2]\n"
     ]
    }
   ],
   "source": [
    "x = np.random.randint(0, 10, 5)\n",
    "print(x)\n",
    "\n",
    "y = x.argsort()\n",
    "print(y)"
   ]
  },
  {
   "cell_type": "code",
   "execution_count": 65,
   "metadata": {},
   "outputs": [
    {
     "data": {
      "text/plain": [
       "array([0, 0, 0, 1, 2, 2, 2, 2, 2, 3, 3, 3, 4, 4, 4, 4, 4, 4, 4, 4])"
      ]
     },
     "execution_count": 65,
     "metadata": {},
     "output_type": "execute_result"
    }
   ],
   "source": [
    "# 중복값 제거\n",
    "x = np.random.randint(0, 5, 20)\n",
    "x.sort()\n",
    "x"
   ]
  },
  {
   "cell_type": "code",
   "execution_count": 66,
   "metadata": {},
   "outputs": [
    {
     "data": {
      "text/plain": [
       "array([0, 1, 2, 3, 4])"
      ]
     },
     "execution_count": 66,
     "metadata": {},
     "output_type": "execute_result"
    }
   ],
   "source": [
    "np.unique(x)"
   ]
  },
  {
   "cell_type": "code",
   "execution_count": 67,
   "metadata": {},
   "outputs": [],
   "source": [
    "x = np.full((3, 4), np.nan)\n"
   ]
  },
  {
   "cell_type": "code",
   "execution_count": 70,
   "metadata": {},
   "outputs": [
    {
     "name": "stdout",
     "output_type": "stream",
     "text": [
      "[6 5 4 3 2 1]\n",
      "[4 5]\n"
     ]
    }
   ],
   "source": [
    "x = np.arange(6, 0, -1)\n",
    "print(x)\n",
    "y = np.where(x < 3)[0]\n",
    "print(y)"
   ]
  },
  {
   "cell_type": "code",
   "execution_count": 71,
   "metadata": {},
   "outputs": [
    {
     "name": "stdout",
     "output_type": "stream",
     "text": [
      "[[0 1 2]\n",
      " [3 4 5]]\n",
      "[3 4 5]\n"
     ]
    }
   ],
   "source": [
    "# extract\n",
    "x = np.arange(6).reshape(2, 3)\n",
    "print(x)\n",
    "\n",
    "y = np.extract(x > 2, x)\n",
    "print(y)"
   ]
  },
  {
   "cell_type": "code",
   "execution_count": 72,
   "metadata": {},
   "outputs": [
    {
     "ename": "NameError",
     "evalue": "name 'pd' is not defined",
     "output_type": "error",
     "traceback": [
      "\u001b[1;31m---------------------------------------------------------------------------\u001b[0m",
      "\u001b[1;31mNameError\u001b[0m                                 Traceback (most recent call last)",
      "Cell \u001b[1;32mIn[72], line 1\u001b[0m\n\u001b[1;32m----> 1\u001b[0m df \u001b[38;5;241m=\u001b[39m pd\u001b[38;5;241m.\u001b[39mDataFrame({\n\u001b[0;32m      2\u001b[0m     \u001b[38;5;124m'\u001b[39m\u001b[38;5;124mA\u001b[39m\u001b[38;5;124m'\u001b[39m: \u001b[38;5;28mrange\u001b[39m(\u001b[38;5;241m1\u001b[39m, \u001b[38;5;241m6\u001b[39m),\n\u001b[0;32m      3\u001b[0m     \u001b[38;5;124m'\u001b[39m\u001b[38;5;124mB\u001b[39m\u001b[38;5;124m'\u001b[39m: \u001b[38;5;28mrange\u001b[39m(\u001b[38;5;241m10\u001b[39m, \u001b[38;5;241m0\u001b[39m, \u001b[38;5;241m-\u001b[39m\u001b[38;5;241m2\u001b[39m),\n\u001b[0;32m      4\u001b[0m     \u001b[38;5;124m'\u001b[39m\u001b[38;5;124mC C\u001b[39m\u001b[38;5;124m'\u001b[39m: \u001b[38;5;28mrange\u001b[39m(\u001b[38;5;241m10\u001b[39m, \u001b[38;5;241m5\u001b[39m, \u001b[38;5;241m-\u001b[39m\u001b[38;5;241m1\u001b[39m)\n\u001b[0;32m      5\u001b[0m     })\n\u001b[0;32m      6\u001b[0m \u001b[38;5;66;03m# B열 값이 6이상이면서 A열의 값이 3이상인 row 추출\u001b[39;00m\n\u001b[0;32m      7\u001b[0m df\u001b[38;5;241m.\u001b[39mquery(\u001b[38;5;124m'\u001b[39m\u001b[38;5;124mA >= 3 and B >= 6\u001b[39m\u001b[38;5;124m'\u001b[39m)   \u001b[38;5;66;03m# df.loc[(df.B >= 6) & (df.A >= 3)]\u001b[39;00m\n",
      "\u001b[1;31mNameError\u001b[0m: name 'pd' is not defined"
     ]
    }
   ],
   "source": [
    "df = pd.DataFrame({\n",
    "    'A': range(1, 6),\n",
    "    'B': range(10, 0, -2),\n",
    "    'C C': range(10, 5, -1)\n",
    "    })\n",
    "# B열 값이 6이상이면서 A열의 값이 3이상인 row 추출\n",
    "df.query('A >= 3 and B >= 6')   # df.loc[(df.B >= 6) & (df.A >= 3)]\n",
    "# A열 1 이상 B열 3 이상\n",
    "df.query('A >= 1 and B >= 3')   # df.loc[(df.B >= 6) & (df.A >= 3)]\n",
    "# C C열이 8이상이면서 A열이 3이상\n",
    "df.query('`C C` >= 8 and A >= 3')\n",
    "# A열이 값이 수학인 것을 추출\n",
    "df.query('A == \"수학\"')"
   ]
  }
 ],
 "metadata": {
  "kernelspec": {
   "display_name": "base",
   "language": "python",
   "name": "python3"
  },
  "language_info": {
   "codemirror_mode": {
    "name": "ipython",
    "version": 3
   },
   "file_extension": ".py",
   "mimetype": "text/x-python",
   "name": "python",
   "nbconvert_exporter": "python",
   "pygments_lexer": "ipython3",
   "version": "3.12.4"
  }
 },
 "nbformat": 4,
 "nbformat_minor": 2
}
