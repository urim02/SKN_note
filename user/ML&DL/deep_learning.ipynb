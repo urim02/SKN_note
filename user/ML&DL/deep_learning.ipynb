{
 "cells": [
  {
   "cell_type": "markdown",
   "metadata": {},
   "source": [
    "## Deep Learning\n",
    "\n",
    "- 딥러닝 이전에 불가했던 그림, 텍스트, 사운드 및 기타 데이터의 복잡한 패턴을 인식하여 정확한 모델 생성\n",
    "- 컴퓨팅 파워의 증가와 연관 있음\n",
    "- 복잡한 패턴을 찾는 것을 주로, 데이터의 패턴이 단순한 경우에 딥러닝을 사용하는 것은 오히려 독이 될 수 있음"
   ]
  },
  {
   "cell_type": "markdown",
   "metadata": {},
   "source": [
    "## Deep Learning Vs. Machine Learning\n",
    "\n",
    "<img src=\"https://cdn.gttkorea.com/news/photo/202306/5448_6001_923.jpg\" width=\"600\" height=\"300\"/>\n",
    "\n",
    "- feature engineering (feature extraction) "
   ]
  },
  {
   "cell_type": "markdown",
   "metadata": {},
   "source": [
    "## Deep Learning Components\n",
    "\n",
    "<img src=\"https://miro.medium.com/v2/resize:fit:1156/format:webp/1*ToPT8jnb5mtnikmiB42hpQ.png\" width=\"600\" height=\"300\"/>\n",
    "\n",
    "<br>\n",
    "- Input(features) - Hidden Layers - Output(prediction)\n",
    "<br>\n",
    "- 두 개 이상의 Hidden Layer를 가지는 경우\n",
    "\n",
    "**Input Layer** <br>\n",
    "- 데이터 입력 노드\n",
    "- 노드 하나가 feature의 수\n",
    "\n",
    "**Hidden Layer**<br>\n",
    "- Input Layer의 데이터 처리 -> 신경망 Hidden Layer로\n",
    "- 데이터의 복잡도나 모델의 구성에 의해서 Hidden layer의 수는 각기 다름\n",
    "- 서로 다른 수준에서 정보를 처리하고 새 정보를 수신할 떄마다 동작 update\n",
    "\n",
    "**Output Layer**<br>\n",
    "- 데이터 출력 노드\n",
    "- 분류 문제에서 정답의 갯수 만큼 노드 존재"
   ]
  },
  {
   "cell_type": "code",
   "execution_count": 2,
   "metadata": {},
   "outputs": [],
   "source": [
    "import torch"
   ]
  },
  {
   "cell_type": "code",
   "execution_count": 3,
   "metadata": {},
   "outputs": [],
   "source": [
    "device = 'cuda' if torch.cuda.is_available() else 'cpu'"
   ]
  }
 ],
 "metadata": {
  "kernelspec": {
   "display_name": "deep_learning",
   "language": "python",
   "name": "python3"
  },
  "language_info": {
   "codemirror_mode": {
    "name": "ipython",
    "version": 3
   },
   "file_extension": ".py",
   "mimetype": "text/x-python",
   "name": "python",
   "nbconvert_exporter": "python",
   "pygments_lexer": "ipython3",
   "version": "3.10.14"
  }
 },
 "nbformat": 4,
 "nbformat_minor": 2
}
