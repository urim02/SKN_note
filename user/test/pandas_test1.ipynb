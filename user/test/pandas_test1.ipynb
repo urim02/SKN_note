{
 "cells": [
  {
   "cell_type": "code",
   "execution_count": 1,
   "metadata": {},
   "outputs": [],
   "source": [
    "import pandas as pd"
   ]
  },
  {
   "cell_type": "code",
   "execution_count": 2,
   "metadata": {},
   "outputs": [
    {
     "name": "stderr",
     "output_type": "stream",
     "text": [
      "C:\\Users\\gusgm\\AppData\\Local\\Temp\\ipykernel_22128\\201654019.py:1: DtypeWarning: Columns (2) have mixed types. Specify dtype option on import or set low_memory=False.\n",
      "  data = pd.read_csv(r'C:\\Users\\gusgm\\Documents\\SKN_note_git\\SKN_note\\data\\data_1.csv')\n"
     ]
    }
   ],
   "source": [
    "data = pd.read_csv(r'C:\\Users\\gusgm\\Documents\\SKN_note_git\\SKN_note\\data\\data_1.csv')"
   ]
  },
  {
   "cell_type": "markdown",
   "metadata": {},
   "source": [
    "# 1. \n",
    "컬럼별 결측치의 합이 0이 아닌 값의 최대 - 최소"
   ]
  },
  {
   "cell_type": "code",
   "execution_count": 3,
   "metadata": {},
   "outputs": [
    {
     "data": {
      "text/plain": [
       "460408"
      ]
     },
     "execution_count": 3,
     "metadata": {},
     "output_type": "execute_result"
    }
   ],
   "source": [
    "temp = data.isna().sum()[data.isna().sum() > 0]\n",
    "temp.max() - temp.min()"
   ]
  },
  {
   "cell_type": "markdown",
   "metadata": {},
   "source": [
    "# 2. \n",
    "컬렴별 결측치의 합이 500인 미만의 컬럼을 선택 후 dropna()를 했을 때 row수"
   ]
  },
  {
   "cell_type": "code",
   "execution_count": 4,
   "metadata": {},
   "outputs": [
    {
     "data": {
      "text/plain": [
       "460287"
      ]
     },
     "execution_count": 4,
     "metadata": {},
     "output_type": "execute_result"
    }
   ],
   "source": [
    "data = data.loc[:, data.isna().sum() < 500].dropna()\n",
    "len(data)"
   ]
  },
  {
   "cell_type": "markdown",
   "metadata": {},
   "source": [
    "# 3.\n",
    "상업원종대분류코드의 비율을 구할 때, 처음으로 소숫점 첫번째 자리에 0이 아닌 값이 등장하는 코드"
   ]
  },
  {
   "cell_type": "code",
   "execution_count": 5,
   "metadata": {},
   "outputs": [
    {
     "data": {
      "text/plain": [
       "상권업종대분류코드\n",
       "I2    125940\n",
       "G2     98751\n",
       "M1     86168\n",
       "S2     46609\n",
       "P1     25995\n",
       "L1     23468\n",
       "N1     21405\n",
       "R1     18193\n",
       "Q1      7683\n",
       "I1      6075\n",
       "Name: count, dtype: int64"
      ]
     },
     "execution_count": 5,
     "metadata": {},
     "output_type": "execute_result"
    }
   ],
   "source": [
    "data.상권업종대분류코드.value_counts()"
   ]
  },
  {
   "cell_type": "code",
   "execution_count": 6,
   "metadata": {},
   "outputs": [
    {
     "data": {
      "text/plain": [
       "Index(['상가업소번호', '상호명', '상권업종대분류코드', '상권업종대분류명', '상권업종중분류코드', '상권업종중분류명',\n",
       "       '상권업종소분류코드', '상권업종소분류명', '표준산업분류코드', '표준산업분류명', '시도코드', '시도명', '시군구코드',\n",
       "       '시군구명', '행정동코드', '행정동명', '법정동코드', '법정동명', '지번코드', '대지구분코드', '대지구분명',\n",
       "       '지번본번지', '지번주소', '도로명코드', '도로명', '건물본번지', '건물관리번호', '도로명주소', '구우편번호',\n",
       "       '신우편번호', '경도', '위도'],\n",
       "      dtype='object')"
      ]
     },
     "execution_count": 6,
     "metadata": {},
     "output_type": "execute_result"
    }
   ],
   "source": [
    "data.columns"
   ]
  },
  {
   "cell_type": "markdown",
   "metadata": {},
   "source": [
    "# 4.\n",
    "강남구에서 가장 성업하는 상권업종소분류명?"
   ]
  },
  {
   "cell_type": "code",
   "execution_count": 7,
   "metadata": {},
   "outputs": [
    {
     "data": {
      "text/plain": [
       "['상호명', '시군구명', '지번주소', '도로명', '도로명주소']"
      ]
     },
     "execution_count": 7,
     "metadata": {},
     "output_type": "execute_result"
    }
   ],
   "source": [
    "[col for col in data.columns if data[col].astype(str).str.contains('강남구').any()]"
   ]
  },
  {
   "cell_type": "code",
   "execution_count": 8,
   "metadata": {},
   "outputs": [
    {
     "data": {
      "text/plain": [
       "상권업종소분류명\n",
       "경영 컨설팅업            5107\n",
       "부동산 중개/대리업         3417\n",
       "광고 대행업             3077\n",
       "백반/한정식             2103\n",
       "카페                 1926\n",
       "                   ... \n",
       "분류 안된 외국식 음식점         2\n",
       "우유 소매업                2\n",
       "비디오방                  1\n",
       "음반/비디오물 대여업           1\n",
       "바둑/장기/체스 경기 운영업       1\n",
       "Name: count, Length: 245, dtype: int64"
      ]
     },
     "execution_count": 8,
     "metadata": {},
     "output_type": "execute_result"
    }
   ],
   "source": [
    "data.query('시군구명 == \"강남구\"').상권업종소분류명.value_counts()"
   ]
  },
  {
   "cell_type": "markdown",
   "metadata": {},
   "source": [
    "# 5.\n",
    "종로구에서 가장 성업하는 상권업종소분류명?"
   ]
  },
  {
   "cell_type": "code",
   "execution_count": 49,
   "metadata": {},
   "outputs": [
    {
     "data": {
      "text/plain": [
       "상권업종소분류명\n",
       "백반/한정식             1177\n",
       "카페                 1111\n",
       "시계/귀금속 소매업          648\n",
       "여행사                 613\n",
       "경영 컨설팅업             611\n",
       "                   ... \n",
       "방사선 진단/병리 검사 의원       1\n",
       "우유 소매업                1\n",
       "탁구장                   1\n",
       "캠핑/글램핑                1\n",
       "가축 사료 소매업             1\n",
       "Name: count, Length: 244, dtype: int64"
      ]
     },
     "execution_count": 49,
     "metadata": {},
     "output_type": "execute_result"
    }
   ],
   "source": [
    "data.query('시군구명 == \"종로구\"').상권업종소분류명.value_counts()"
   ]
  },
  {
   "cell_type": "markdown",
   "metadata": {},
   "source": [
    "# 6.\n",
    "편의점 브랜드 중 서울시 내 가장 많은 매장을 보유하고 있는 브랜드?"
   ]
  },
  {
   "cell_type": "code",
   "execution_count": 10,
   "metadata": {},
   "outputs": [
    {
     "data": {
      "text/plain": [
       "array(['세븐일레븐구로드림', '씨유공릉철길공원점', '씨유홍대으뜸점', ..., '씨유성내최고점', '세븐뉴스타점',\n",
       "       '씨유왕십리현대점'], dtype=object)"
      ]
     },
     "execution_count": 10,
     "metadata": {},
     "output_type": "execute_result"
    }
   ],
   "source": [
    "data.query('상권업종소분류명==\"편의점\"').상호명.unique()"
   ]
  },
  {
   "cell_type": "code",
   "execution_count": 59,
   "metadata": {},
   "outputs": [
    {
     "data": {
      "text/plain": [
       "Series([], Name: count, dtype: int64)"
      ]
     },
     "execution_count": 59,
     "metadata": {},
     "output_type": "execute_result"
    }
   ],
   "source": [
    "stores = data[data['상권업종소분류명'] == '편의점']\n",
    "\n",
    "seoul_stores = stores[stores['시도명'] == '서울시']\n",
    "seoul_stores['상호명'].value_counts()"
   ]
  },
  {
   "cell_type": "code",
   "execution_count": 67,
   "metadata": {},
   "outputs": [
    {
     "data": {
      "text/html": [
       "<div>\n",
       "<style scoped>\n",
       "    .dataframe tbody tr th:only-of-type {\n",
       "        vertical-align: middle;\n",
       "    }\n",
       "\n",
       "    .dataframe tbody tr th {\n",
       "        vertical-align: top;\n",
       "    }\n",
       "\n",
       "    .dataframe thead th {\n",
       "        text-align: right;\n",
       "    }\n",
       "</style>\n",
       "<table border=\"1\" class=\"dataframe\">\n",
       "  <thead>\n",
       "    <tr style=\"text-align: right;\">\n",
       "      <th></th>\n",
       "      <th>상가업소번호</th>\n",
       "      <th>상호명</th>\n",
       "      <th>상권업종대분류코드</th>\n",
       "      <th>상권업종대분류명</th>\n",
       "      <th>상권업종중분류코드</th>\n",
       "      <th>상권업종중분류명</th>\n",
       "      <th>상권업종소분류코드</th>\n",
       "      <th>상권업종소분류명</th>\n",
       "      <th>표준산업분류코드</th>\n",
       "      <th>표준산업분류명</th>\n",
       "      <th>...</th>\n",
       "      <th>지번주소</th>\n",
       "      <th>도로명코드</th>\n",
       "      <th>도로명</th>\n",
       "      <th>건물본번지</th>\n",
       "      <th>건물관리번호</th>\n",
       "      <th>도로명주소</th>\n",
       "      <th>구우편번호</th>\n",
       "      <th>신우편번호</th>\n",
       "      <th>경도</th>\n",
       "      <th>위도</th>\n",
       "    </tr>\n",
       "  </thead>\n",
       "  <tbody>\n",
       "    <tr>\n",
       "      <th>43</th>\n",
       "      <td>MA010120220805434221</td>\n",
       "      <td>세븐일레븐구로드림</td>\n",
       "      <td>G2</td>\n",
       "      <td>소매</td>\n",
       "      <td>G204</td>\n",
       "      <td>종합 소매</td>\n",
       "      <td>G20405</td>\n",
       "      <td>편의점</td>\n",
       "      <td>G47122</td>\n",
       "      <td>체인화 편의점</td>\n",
       "      <td>...</td>\n",
       "      <td>서울특별시 구로구 구로동 197-10</td>\n",
       "      <td>1.153041e+11</td>\n",
       "      <td>서울특별시 구로구 디지털로33길</td>\n",
       "      <td>55.0</td>\n",
       "      <td>1153010200101970010022767</td>\n",
       "      <td>서울특별시 구로구 디지털로33길 55</td>\n",
       "      <td>152719</td>\n",
       "      <td>8376</td>\n",
       "      <td>126.893029</td>\n",
       "      <td>37.486746</td>\n",
       "    </tr>\n",
       "    <tr>\n",
       "      <th>259</th>\n",
       "      <td>MA010120220805438625</td>\n",
       "      <td>씨유공릉철길공원점</td>\n",
       "      <td>G2</td>\n",
       "      <td>소매</td>\n",
       "      <td>G204</td>\n",
       "      <td>종합 소매</td>\n",
       "      <td>G20405</td>\n",
       "      <td>편의점</td>\n",
       "      <td>G47122</td>\n",
       "      <td>체인화 편의점</td>\n",
       "      <td>...</td>\n",
       "      <td>서울특별시 노원구 공릉동 351-12</td>\n",
       "      <td>1.135041e+11</td>\n",
       "      <td>서울특별시 노원구 공릉로37길</td>\n",
       "      <td>17.0</td>\n",
       "      <td>1135010300103510012014137</td>\n",
       "      <td>서울특별시 노원구 공릉로37길 17</td>\n",
       "      <td>139802</td>\n",
       "      <td>1837</td>\n",
       "      <td>127.078410</td>\n",
       "      <td>37.623315</td>\n",
       "    </tr>\n",
       "    <tr>\n",
       "      <th>278</th>\n",
       "      <td>MA010120220805438815</td>\n",
       "      <td>씨유홍대으뜸점</td>\n",
       "      <td>G2</td>\n",
       "      <td>소매</td>\n",
       "      <td>G204</td>\n",
       "      <td>종합 소매</td>\n",
       "      <td>G20405</td>\n",
       "      <td>편의점</td>\n",
       "      <td>G47122</td>\n",
       "      <td>체인화 편의점</td>\n",
       "      <td>...</td>\n",
       "      <td>서울특별시 마포구 창전동 6-148</td>\n",
       "      <td>1.144041e+11</td>\n",
       "      <td>서울특별시 마포구 와우산로26길</td>\n",
       "      <td>9.0</td>\n",
       "      <td>1144011400100060148008701</td>\n",
       "      <td>서울특별시 마포구 와우산로26길 9-19</td>\n",
       "      <td>121880</td>\n",
       "      <td>4059</td>\n",
       "      <td>126.927247</td>\n",
       "      <td>37.553063</td>\n",
       "    </tr>\n",
       "    <tr>\n",
       "      <th>351</th>\n",
       "      <td>MA010120220805442576</td>\n",
       "      <td>이마트24신촌</td>\n",
       "      <td>G2</td>\n",
       "      <td>소매</td>\n",
       "      <td>G204</td>\n",
       "      <td>종합 소매</td>\n",
       "      <td>G20405</td>\n",
       "      <td>편의점</td>\n",
       "      <td>G47122</td>\n",
       "      <td>체인화 편의점</td>\n",
       "      <td>...</td>\n",
       "      <td>서울특별시 서대문구 대현동 104-75</td>\n",
       "      <td>1.141041e+11</td>\n",
       "      <td>서울특별시 서대문구 연세로2길</td>\n",
       "      <td>75.0</td>\n",
       "      <td>1141011200101040075023955</td>\n",
       "      <td>서울특별시 서대문구 연세로2길 75</td>\n",
       "      <td>120809</td>\n",
       "      <td>3778</td>\n",
       "      <td>126.940907</td>\n",
       "      <td>37.557079</td>\n",
       "    </tr>\n",
       "    <tr>\n",
       "      <th>366</th>\n",
       "      <td>MA010120220805443219</td>\n",
       "      <td>지에스25상계1단지점</td>\n",
       "      <td>G2</td>\n",
       "      <td>소매</td>\n",
       "      <td>G204</td>\n",
       "      <td>종합 소매</td>\n",
       "      <td>G20405</td>\n",
       "      <td>편의점</td>\n",
       "      <td>G47122</td>\n",
       "      <td>체인화 편의점</td>\n",
       "      <td>...</td>\n",
       "      <td>서울특별시 노원구 상계동 767-5</td>\n",
       "      <td>1.135030e+11</td>\n",
       "      <td>서울특별시 노원구 덕릉로</td>\n",
       "      <td>459.0</td>\n",
       "      <td>1135010500107670005000989</td>\n",
       "      <td>서울특별시 노원구 덕릉로 459-37</td>\n",
       "      <td>139831</td>\n",
       "      <td>1765</td>\n",
       "      <td>127.059398</td>\n",
       "      <td>37.646907</td>\n",
       "    </tr>\n",
       "    <tr>\n",
       "      <th>...</th>\n",
       "      <td>...</td>\n",
       "      <td>...</td>\n",
       "      <td>...</td>\n",
       "      <td>...</td>\n",
       "      <td>...</td>\n",
       "      <td>...</td>\n",
       "      <td>...</td>\n",
       "      <td>...</td>\n",
       "      <td>...</td>\n",
       "      <td>...</td>\n",
       "      <td>...</td>\n",
       "      <td>...</td>\n",
       "      <td>...</td>\n",
       "      <td>...</td>\n",
       "      <td>...</td>\n",
       "      <td>...</td>\n",
       "      <td>...</td>\n",
       "      <td>...</td>\n",
       "      <td>...</td>\n",
       "      <td>...</td>\n",
       "      <td>...</td>\n",
       "    </tr>\n",
       "    <tr>\n",
       "      <th>460326</th>\n",
       "      <td>MA0101202310A0030221</td>\n",
       "      <td>지에스25잠실현대점</td>\n",
       "      <td>G2</td>\n",
       "      <td>소매</td>\n",
       "      <td>G204</td>\n",
       "      <td>종합 소매</td>\n",
       "      <td>G20405</td>\n",
       "      <td>편의점</td>\n",
       "      <td>G47122</td>\n",
       "      <td>체인화 편의점</td>\n",
       "      <td>...</td>\n",
       "      <td>서울특별시 송파구 신천동 7-30</td>\n",
       "      <td>1.171020e+11</td>\n",
       "      <td>서울특별시 송파구 송파대로</td>\n",
       "      <td>570.0</td>\n",
       "      <td>1171010200100070030000001</td>\n",
       "      <td>서울특별시 송파구 송파대로 570</td>\n",
       "      <td>138934</td>\n",
       "      <td>5510</td>\n",
       "      <td>127.099100</td>\n",
       "      <td>37.515781</td>\n",
       "    </tr>\n",
       "    <tr>\n",
       "      <th>460337</th>\n",
       "      <td>MA0101202311A0010124</td>\n",
       "      <td>씨유성내최고점</td>\n",
       "      <td>G2</td>\n",
       "      <td>소매</td>\n",
       "      <td>G204</td>\n",
       "      <td>종합 소매</td>\n",
       "      <td>G20405</td>\n",
       "      <td>편의점</td>\n",
       "      <td>G47122</td>\n",
       "      <td>체인화 편의점</td>\n",
       "      <td>...</td>\n",
       "      <td>서울특별시 강동구 성내동 174-74</td>\n",
       "      <td>1.174042e+11</td>\n",
       "      <td>서울특별시 강동구 천호대로168라길</td>\n",
       "      <td>22.0</td>\n",
       "      <td>1174010800101740074005598</td>\n",
       "      <td>서울특별시 강동구 천호대로168라길 22</td>\n",
       "      <td>134841</td>\n",
       "      <td>5382</td>\n",
       "      <td>127.130727</td>\n",
       "      <td>37.534382</td>\n",
       "    </tr>\n",
       "    <tr>\n",
       "      <th>460363</th>\n",
       "      <td>MA0101202311A0019601</td>\n",
       "      <td>세븐뉴스타점</td>\n",
       "      <td>G2</td>\n",
       "      <td>소매</td>\n",
       "      <td>G204</td>\n",
       "      <td>종합 소매</td>\n",
       "      <td>G20405</td>\n",
       "      <td>편의점</td>\n",
       "      <td>G47122</td>\n",
       "      <td>체인화 편의점</td>\n",
       "      <td>...</td>\n",
       "      <td>서울특별시 송파구 석촌동 4-9</td>\n",
       "      <td>1.171042e+11</td>\n",
       "      <td>서울특별시 송파구 백제고분로33길</td>\n",
       "      <td>31.0</td>\n",
       "      <td>1171010500100040009011388</td>\n",
       "      <td>서울특별시 송파구 백제고분로33길 31</td>\n",
       "      <td>138842</td>\n",
       "      <td>5612</td>\n",
       "      <td>127.098602</td>\n",
       "      <td>37.505451</td>\n",
       "    </tr>\n",
       "    <tr>\n",
       "      <th>460415</th>\n",
       "      <td>MA0101202310A0055050</td>\n",
       "      <td>씨유왕십리현대점</td>\n",
       "      <td>G2</td>\n",
       "      <td>소매</td>\n",
       "      <td>G204</td>\n",
       "      <td>종합 소매</td>\n",
       "      <td>G20405</td>\n",
       "      <td>편의점</td>\n",
       "      <td>G47122</td>\n",
       "      <td>체인화 편의점</td>\n",
       "      <td>...</td>\n",
       "      <td>서울특별시 성동구 하왕십리동 1000-419</td>\n",
       "      <td>1.120031e+11</td>\n",
       "      <td>서울특별시 성동구 난계로</td>\n",
       "      <td>97.0</td>\n",
       "      <td>1120010200110000419027980</td>\n",
       "      <td>서울특별시 성동구 난계로 97-2</td>\n",
       "      <td>133859</td>\n",
       "      <td>4721</td>\n",
       "      <td>127.023572</td>\n",
       "      <td>37.560729</td>\n",
       "    </tr>\n",
       "    <tr>\n",
       "      <th>460427</th>\n",
       "      <td>MA0101202310A0040093</td>\n",
       "      <td>지에스25정릉</td>\n",
       "      <td>G2</td>\n",
       "      <td>소매</td>\n",
       "      <td>G204</td>\n",
       "      <td>종합 소매</td>\n",
       "      <td>G20405</td>\n",
       "      <td>편의점</td>\n",
       "      <td>G46103</td>\n",
       "      <td>섬유, 의복, 신발 및 가죽제품 중개업</td>\n",
       "      <td>...</td>\n",
       "      <td>서울특별시 성북구 정릉동 372-7</td>\n",
       "      <td>1.129041e+11</td>\n",
       "      <td>서울특별시 성북구 솔샘로6길</td>\n",
       "      <td>66.0</td>\n",
       "      <td>1129013300103720007030023</td>\n",
       "      <td>서울특별시 성북구 솔샘로6길 66</td>\n",
       "      <td>136850</td>\n",
       "      <td>2709</td>\n",
       "      <td>127.007723</td>\n",
       "      <td>37.608676</td>\n",
       "    </tr>\n",
       "  </tbody>\n",
       "</table>\n",
       "<p>9429 rows × 32 columns</p>\n",
       "</div>"
      ],
      "text/plain": [
       "                      상가업소번호          상호명 상권업종대분류코드 상권업종대분류명 상권업종중분류코드  \\\n",
       "43      MA010120220805434221    세븐일레븐구로드림        G2       소매      G204   \n",
       "259     MA010120220805438625    씨유공릉철길공원점        G2       소매      G204   \n",
       "278     MA010120220805438815      씨유홍대으뜸점        G2       소매      G204   \n",
       "351     MA010120220805442576      이마트24신촌        G2       소매      G204   \n",
       "366     MA010120220805443219  지에스25상계1단지점        G2       소매      G204   \n",
       "...                      ...          ...       ...      ...       ...   \n",
       "460326  MA0101202310A0030221   지에스25잠실현대점        G2       소매      G204   \n",
       "460337  MA0101202311A0010124      씨유성내최고점        G2       소매      G204   \n",
       "460363  MA0101202311A0019601       세븐뉴스타점        G2       소매      G204   \n",
       "460415  MA0101202310A0055050     씨유왕십리현대점        G2       소매      G204   \n",
       "460427  MA0101202310A0040093      지에스25정릉        G2       소매      G204   \n",
       "\n",
       "       상권업종중분류명 상권업종소분류코드 상권업종소분류명 표준산업분류코드                표준산업분류명  ...  \\\n",
       "43        종합 소매    G20405      편의점   G47122                체인화 편의점  ...   \n",
       "259       종합 소매    G20405      편의점   G47122                체인화 편의점  ...   \n",
       "278       종합 소매    G20405      편의점   G47122                체인화 편의점  ...   \n",
       "351       종합 소매    G20405      편의점   G47122                체인화 편의점  ...   \n",
       "366       종합 소매    G20405      편의점   G47122                체인화 편의점  ...   \n",
       "...         ...       ...      ...      ...                    ...  ...   \n",
       "460326    종합 소매    G20405      편의점   G47122                체인화 편의점  ...   \n",
       "460337    종합 소매    G20405      편의점   G47122                체인화 편의점  ...   \n",
       "460363    종합 소매    G20405      편의점   G47122                체인화 편의점  ...   \n",
       "460415    종합 소매    G20405      편의점   G47122                체인화 편의점  ...   \n",
       "460427    종합 소매    G20405      편의점   G46103  섬유, 의복, 신발 및 가죽제품 중개업  ...   \n",
       "\n",
       "                            지번주소         도로명코드                  도로명  건물본번지  \\\n",
       "43          서울특별시 구로구 구로동 197-10  1.153041e+11    서울특별시 구로구 디지털로33길   55.0   \n",
       "259         서울특별시 노원구 공릉동 351-12  1.135041e+11     서울특별시 노원구 공릉로37길   17.0   \n",
       "278          서울특별시 마포구 창전동 6-148  1.144041e+11    서울특별시 마포구 와우산로26길    9.0   \n",
       "351        서울특별시 서대문구 대현동 104-75  1.141041e+11     서울특별시 서대문구 연세로2길   75.0   \n",
       "366          서울특별시 노원구 상계동 767-5  1.135030e+11        서울특별시 노원구 덕릉로  459.0   \n",
       "...                          ...           ...                  ...    ...   \n",
       "460326        서울특별시 송파구 신천동 7-30  1.171020e+11       서울특별시 송파구 송파대로  570.0   \n",
       "460337      서울특별시 강동구 성내동 174-74  1.174042e+11  서울특별시 강동구 천호대로168라길   22.0   \n",
       "460363         서울특별시 송파구 석촌동 4-9  1.171042e+11   서울특별시 송파구 백제고분로33길   31.0   \n",
       "460415  서울특별시 성동구 하왕십리동 1000-419  1.120031e+11        서울특별시 성동구 난계로   97.0   \n",
       "460427       서울특별시 성북구 정릉동 372-7  1.129041e+11      서울특별시 성북구 솔샘로6길   66.0   \n",
       "\n",
       "                           건물관리번호                   도로명주소   구우편번호 신우편번호  \\\n",
       "43      1153010200101970010022767    서울특별시 구로구 디지털로33길 55  152719  8376   \n",
       "259     1135010300103510012014137     서울특별시 노원구 공릉로37길 17  139802  1837   \n",
       "278     1144011400100060148008701  서울특별시 마포구 와우산로26길 9-19  121880  4059   \n",
       "351     1141011200101040075023955     서울특별시 서대문구 연세로2길 75  120809  3778   \n",
       "366     1135010500107670005000989    서울특별시 노원구 덕릉로 459-37  139831  1765   \n",
       "...                           ...                     ...     ...   ...   \n",
       "460326  1171010200100070030000001      서울특별시 송파구 송파대로 570  138934  5510   \n",
       "460337  1174010800101740074005598  서울특별시 강동구 천호대로168라길 22  134841  5382   \n",
       "460363  1171010500100040009011388   서울특별시 송파구 백제고분로33길 31  138842  5612   \n",
       "460415  1120010200110000419027980      서울특별시 성동구 난계로 97-2  133859  4721   \n",
       "460427  1129013300103720007030023      서울특별시 성북구 솔샘로6길 66  136850  2709   \n",
       "\n",
       "                경도         위도  \n",
       "43      126.893029  37.486746  \n",
       "259     127.078410  37.623315  \n",
       "278     126.927247  37.553063  \n",
       "351     126.940907  37.557079  \n",
       "366     127.059398  37.646907  \n",
       "...            ...        ...  \n",
       "460326  127.099100  37.515781  \n",
       "460337  127.130727  37.534382  \n",
       "460363  127.098602  37.505451  \n",
       "460415  127.023572  37.560729  \n",
       "460427  127.007723  37.608676  \n",
       "\n",
       "[9429 rows x 32 columns]"
      ]
     },
     "execution_count": 67,
     "metadata": {},
     "output_type": "execute_result"
    }
   ],
   "source": [
    "data[data['상권업종소분류명'] == '편의점']"
   ]
  },
  {
   "cell_type": "code",
   "execution_count": null,
   "metadata": {},
   "outputs": [],
   "source": [
    "data.query('상권업종소분류명==\"편의점\"').상호명.str.extract('(세븐일레븐|세븐|씨유|CU|GS|지에스).+', expand=False).value_counts()"
   ]
  },
  {
   "cell_type": "markdown",
   "metadata": {},
   "source": [
    "# 7.\n",
    "서울시 편의점 중 세븐, 씨유, 이마트24, 지에스가 아닌 편의점 비율? (반올림하여 소숫점 넷째자리가지 표현, %는 사용하지 않음)"
   ]
  },
  {
   "cell_type": "code",
   "execution_count": null,
   "metadata": {},
   "outputs": [],
   "source": [
    "(len(data.query('상권업종소분류명==\"편의점\"')) - data.query('상권업종소분류명==\"편의점\"').상호명.str.extract('(세븐일레븐|씨유|CU|GS|지에스).+', expand=False).value_counts().sum()) / len(data.query('상권업종소분류명==\"편의점\"'))"
   ]
  },
  {
   "cell_type": "markdown",
   "metadata": {},
   "source": [
    "# 8.\n",
    "구별 위도와 경도의 평균보다 큰 속에 위치한 업장의 수?"
   ]
  },
  {
   "cell_type": "code",
   "execution_count": null,
   "metadata": {},
   "outputs": [],
   "source": [
    "len(\n",
    "    data.filter(items=['시군구명', '상호명', '위도', '경도'])\n",
    "    .merge(data.filter(items=['시군구명', '위도', '경도']).groupby(['시군구명']).mean().rename(columns={'위도': '위도평균', '경도': '경도평균'}).reset_index(), on=['시군구명'])\n",
    "    .query('위도 > 위도평균 and 경도 > 경도평균')\n",
    ")"
   ]
  },
  {
   "cell_type": "markdown",
   "metadata": {},
   "source": [
    "# 9.\n",
    "상호명이 10글자 이상이 비율이 가장 높은 도시?"
   ]
  },
  {
   "cell_type": "code",
   "execution_count": 11,
   "metadata": {},
   "outputs": [
    {
     "data": {
      "text/html": [
       "<div>\n",
       "<style scoped>\n",
       "    .dataframe tbody tr th:only-of-type {\n",
       "        vertical-align: middle;\n",
       "    }\n",
       "\n",
       "    .dataframe tbody tr th {\n",
       "        vertical-align: top;\n",
       "    }\n",
       "\n",
       "    .dataframe thead th {\n",
       "        text-align: right;\n",
       "    }\n",
       "</style>\n",
       "<table border=\"1\" class=\"dataframe\">\n",
       "  <thead>\n",
       "    <tr style=\"text-align: right;\">\n",
       "      <th></th>\n",
       "      <th>target_len</th>\n",
       "    </tr>\n",
       "    <tr>\n",
       "      <th>시군구명</th>\n",
       "      <th></th>\n",
       "    </tr>\n",
       "  </thead>\n",
       "  <tbody>\n",
       "    <tr>\n",
       "      <th>서초구</th>\n",
       "      <td>0.167329</td>\n",
       "    </tr>\n",
       "    <tr>\n",
       "      <th>송파구</th>\n",
       "      <td>0.149883</td>\n",
       "    </tr>\n",
       "  </tbody>\n",
       "</table>\n",
       "</div>"
      ],
      "text/plain": [
       "      target_len\n",
       "시군구명            \n",
       "서초구     0.167329\n",
       "송파구     0.149883"
      ]
     },
     "execution_count": 11,
     "metadata": {},
     "output_type": "execute_result"
    }
   ],
   "source": [
    "temp = data.filter(items=['시군구명', '상호명'])\n",
    "temp['상호길이'] = data.상호명.str.len()\n",
    "temp['target_len'] = temp.상호길이 >= 10\n",
    "temp.filter(items=['시군구명', 'target_len']).groupby(['시군구명']).mean().sort_values(by=['target_len'], ascending=False).head(2)"
   ]
  },
  {
   "cell_type": "code",
   "execution_count": null,
   "metadata": {},
   "outputs": [],
   "source": []
  }
 ],
 "metadata": {
  "kernelspec": {
   "display_name": "base",
   "language": "python",
   "name": "python3"
  },
  "language_info": {
   "codemirror_mode": {
    "name": "ipython",
    "version": 3
   },
   "file_extension": ".py",
   "mimetype": "text/x-python",
   "name": "python",
   "nbconvert_exporter": "python",
   "pygments_lexer": "ipython3",
   "version": "3.12.4"
  }
 },
 "nbformat": 4,
 "nbformat_minor": 2
}
